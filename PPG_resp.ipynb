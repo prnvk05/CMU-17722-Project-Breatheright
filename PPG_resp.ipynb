{
 "cells": [
  {
   "cell_type": "code",
   "execution_count": 1,
   "metadata": {},
   "outputs": [],
   "source": [
    "\n",
    "import serial\n",
    "import numpy as np\n",
    "import matplotlib.pyplot as plt\n",
    "from matplotlib.animation import FuncAnimation\n",
    "from scipy.signal import butter, lfilter\n",
    "from scipy.signal import find_peaks\n",
    "\n",
    "\n",
    "def butter_bandpass(lowcut, highcut, fs, order=5):\n",
    "    nyq = 0.5 * fs\n",
    "    low = lowcut / nyq\n",
    "    high = highcut / nyq\n",
    "    b, a = butter(order, [low, high], btype='band')\n",
    "    return b, a\n",
    "\n",
    "\n",
    "def butter_bandpass_filter(data, lowcut, highcut, fs, order=5):\n",
    "    b, a = butter_bandpass(lowcut, highcut, fs, order=order)\n",
    "    y = lfilter(b, a, data)\n",
    "    return y\n",
    "\n",
    "\n",
    "def read_window(line, period):\n",
    "    i = 0\n",
    "    line.flush()\n",
    "    window = np.empty(period)\n",
    "    while( i < period):\n",
    "        window[i] = line.readline()\n",
    "        i += 1\n",
    "    return window"
   ]
  },
  {
   "cell_type": "code",
   "execution_count": 2,
   "metadata": {},
   "outputs": [],
   "source": [
    "fs = 1/ 0.005\n",
    "lowcut = 2\n",
    "highcut = 6\n",
    "\n",
    "dict_resp = {}\n",
    "dict_resp[0] = \"Inhaling\"\n",
    "dict_resp[1] = \"Exhaling\""
   ]
  },
  {
   "cell_type": "code",
   "execution_count": 3,
   "metadata": {},
   "outputs": [],
   "source": [
    "line = serial.Serial('/dev/cu.usbmodem141301')\n",
    "window = read_window(line, 2000)\n"
   ]
  },
  {
   "cell_type": "code",
   "execution_count": 15,
   "metadata": {},
   "outputs": [
    {
     "name": "stdout",
     "output_type": "stream",
     "text": [
      "Inhaling\n",
      "Inhaling\n",
      "Exhaling\n"
     ]
    },
    {
     "data": {
      "image/png": "[encoded data removed]",
      "text/plain": [
       "<Figure size 360x216 with 1 Axes>"
      ]
     },
     "metadata": {
      "needs_background": "light"
     },
     "output_type": "display_data"
    }
   ],
   "source": [
    "j = 0\n",
    "fig, ax = plt.subplots(figsize=(5, 3))\n",
    "ax.set(xlim=(-1, 1), ylim=(-1, 1))\n",
    "label = ax.text(0, 0, 'start',\n",
    "                ha='center', va='center',\n",
    "                fontsize=12)\n",
    "while(j < 5):\n",
    "    window = read_window(line, 1000)\n",
    "    #window = np.concatenate([window[1000:], rt_data])\n",
    "    x = window\n",
    "    x = butter_bandpass_filter(x, lowcut, highcut, fs, order=6)\n",
    "    peaks, params = find_peaks(x, height = 0.25 * np.mean(x), width = 20)\n",
    "\n",
    "    x = x[peaks]\n",
    "\n",
    "    x[x<0.6 * np.mean(params['peak_heights'])] = 0\n",
    "    x[x >0.6 * np.mean(params['peak_heights'])] = 1\n",
    "\n",
    "\n",
    "    breath_list = []\n",
    "    for i in range(int(len(x)/2),len(x)):\n",
    "        if(i!=0 and x[i-1]==x[i]):\n",
    "            continue\n",
    "        else:\n",
    "#             fig.canvas.flush_events()\n",
    "            label.set_text(dict_resp[x[i]])\n",
    "            fig.canvas.draw()\n",
    "            plt.plot()\n",
    "            print(dict_resp[x[i]])\n",
    "            breath_list.append(dict_resp[x[i]])\n",
    "\n",
    "    peaks, params = find_peaks(x, plateau_size = 2)\n",
    "    \n",
    "    \n",
    "    j+=1\n",
    "# line.close()"
   ]
  },
  {
   "cell_type": "code",
   "execution_count": 16,
   "metadata": {},
   "outputs": [],
   "source": [
    "line.close()"
   ]
  },
  {
   "cell_type": "code",
   "execution_count": null,
   "metadata": {},
   "outputs": [],
   "source": [
    "fig, ax = plt.subplots(figsize=(5, 3))\n",
    "ax.set(xlim=(-1, 1), ylim=(-1, 1))\n",
    "label = ax.text(0, 0, 'start',\n",
    "                ha='center', va='center',\n",
    "                fontsize=12)\n",
    " \n",
    "def animate(text):\n",
    "    label.set_text(text)"
   ]
  },
  {
   "cell_type": "code",
   "execution_count": null,
   "metadata": {},
   "outputs": [],
   "source": [
    "anim = FuncAnimation(\n",
    "    fig, animate)\n",
    " \n",
    "#plt.draw()\n",
    "# plt.show()"
   ]
  },
  {
   "cell_type": "code",
   "execution_count": null,
   "metadata": {},
   "outputs": [],
   "source": [
    "anim.save('sine_wave.gif')"
   ]
  },
  {
   "cell_type": "code",
   "execution_count": null,
   "metadata": {},
   "outputs": [],
   "source": []
  }
 ],
 "metadata": {
  "kernelspec": {
   "display_name": "Python 3",
   "language": "python",
   "name": "python3"
  },
  "language_info": {
   "codemirror_mode": {
    "name": "ipython",
    "version": 3
   },
   "file_extension": ".py",
   "mimetype": "text/x-python",
   "name": "python",
   "nbconvert_exporter": "python",
   "pygments_lexer": "ipython3",
   "version": "3.8.3"
  }
 },
 "nbformat": 4,
 "nbformat_minor": 4
}
